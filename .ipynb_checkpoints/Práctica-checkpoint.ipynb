{
 "cells": [
  {
   "cell_type": "code",
   "execution_count": 1,
   "metadata": {},
   "outputs": [
    {
     "name": "stdout",
     "output_type": "stream",
     "text": [
      "hola mundo\n"
     ]
    }
   ],
   "source": [
    "print ('hola mundo')"
   ]
  },
  {
   "cell_type": "code",
   "execution_count": 2,
   "metadata": {},
   "outputs": [
    {
     "name": "stdout",
     "output_type": "stream",
     "text": [
      "Introduce un numero56\n"
     ]
    },
    {
     "data": {
      "text/plain": [
       "'56'"
      ]
     },
     "execution_count": 2,
     "metadata": {},
     "output_type": "execute_result"
    }
   ],
   "source": [
    "input('Introduce un numero')"
   ]
  },
  {
   "cell_type": "markdown",
   "metadata": {},
   "source": [
    "Primer de tot, recorda els tipus de variables: float, entero y str"
   ]
  },
  {
   "cell_type": "markdown",
   "metadata": {},
   "source": [
    "Per busca quin es el tipus de variable que busquem utilitzem type\n",
    "\n",
    "Utilitzem input per dir una frase y que ens deixi posa un valor\n",
    "\n",
    "print per veure el que em posat, s'ha de tenir en compte el tema de les cometes si hi ha més cometes canviarles\n",
    "\n",
    "Per poder canviar el tipus de variable sempre pots posa str, float o int davant per fer ho"
   ]
  },
  {
   "cell_type": "markdown",
   "metadata": {},
   "source": [
    "Hay otro tipo de variable los boleanos pero esto lo que nos indican si lo que decimos es falso o cierto\n",
    "\n",
    "Es decir, la respuesta es verdadero o falso"
   ]
  },
  {
   "cell_type": "markdown",
   "metadata": {},
   "source": [
    "Hay otros tipos como el xor es un tipo de boleano\n",
    "\n",
    "laa tabla del xor es:\n",
    "\n",
    "true ^ true = false\n",
    "true ^false = true\n",
    "false ^ true = true\n",
    "false ^ false = false"
   ]
  },
  {
   "cell_type": "markdown",
   "metadata": {},
   "source": [
    "Y los otros datos son los complejos:\n",
    "\n",
    "se componen de letras y números\n",
    "\n",
    "Como pueden ser listas, diccionarios, etc..."
   ]
  },
  {
   "cell_type": "markdown",
   "metadata": {},
   "source": [
    "Listas: para hacer una lista siempre tiene que ser entre claudators\n",
    "    \n",
    "Puedes meter en ella todo tipo de elementos\n",
    "\n",
    "y puedes ir por la lista moviendote con claudatomr y el número de la posición"
   ]
  },
  {
   "cell_type": "markdown",
   "metadata": {},
   "source": [
    "las listas añadiendo un punto tienen diferentes opciones para poder añadir delante o detrás y, otras funciones"
   ]
  },
  {
   "cell_type": "markdown",
   "metadata": {},
   "source": [
    "Hay funciones en las listas como len, mirar la longitud de la lista.\n",
    "\n",
    "Hay el mínimo de valor y el máximo, la suma, etc...\n",
    "\n",
    "Dentro de las listas puedes coger distintos número a partir de funciones como [:4] seria coger los cuatro primeros."
   ]
  },
  {
   "cell_type": "markdown",
   "metadata": {},
   "source": [
    "También hay tuplas son elementos heteregeneos pero inmuntables"
   ]
  },
  {
   "cell_type": "markdown",
   "metadata": {},
   "source": [
    "Se hace con parentesis al contrario que las listas"
   ]
  },
  {
   "cell_type": "markdown",
   "metadata": {},
   "source": [
    "Després tenim operadors i llenguatge\n",
    "\n",
    "És a dir pots fer sumes de lletras, multiplicació, divisió, divisió exacte o el dividend"
   ]
  },
  {
   "cell_type": "code",
   "execution_count": 1,
   "metadata": {},
   "outputs": [],
   "source": [
    "n_times = 0"
   ]
  },
  {
   "cell_type": "code",
   "execution_count": 2,
   "metadata": {},
   "outputs": [],
   "source": [
    "n_times = n_times + 1"
   ]
  },
  {
   "cell_type": "code",
   "execution_count": 3,
   "metadata": {},
   "outputs": [
    {
     "data": {
      "text/plain": [
       "1"
      ]
     },
     "execution_count": 3,
     "metadata": {},
     "output_type": "execute_result"
    }
   ],
   "source": [
    "n_times"
   ]
  },
  {
   "cell_type": "markdown",
   "metadata": {},
   "source": [
    "Hi ha diferents funcions númeriques per pode fer servir com el mínim. máxim, exponencial etc..."
   ]
  },
  {
   "cell_type": "markdown",
   "metadata": {},
   "source": [
    "Després com hem comentat abans hi ha diferents tipus de variables ara comentarem els strings cadenes de lletres"
   ]
  },
  {
   "cell_type": "markdown",
   "metadata": {},
   "source": [
    "En el cas dels strings pots crea una variable que tingui strings i aquesta té funcions per fer servir.\n",
    "\n",
    "Pots separar amb split, pots fer replace, upper, capitalize, etc..."
   ]
  },
  {
   "cell_type": "markdown",
   "metadata": {},
   "source": [
    "Es pot llegir i escriure a partir de de la funció open i llegir a partir de la funció readline.\n",
    "\n",
    "Després s'haurà de tancar amb close.\n",
    "\n",
    "Quan obrim el arxiu haurem de dir si estem llegint o estem escrivint amb separant amb una coma i posant cometes 'rt' o 'wt'\n",
    "\n",
    "Com he comentat s'haurà de fer readline o write depenen que vulguem\n",
    "\n",
    "També farem això amb pandas que serà més fàcil sobretot quan vulguem llegir"
   ]
  },
  {
   "cell_type": "markdown",
   "metadata": {},
   "source": [
    "Operadors lògics es a dir true false pero també podem donar el condicionant dient si 2 és més petit que 3 això serà true\n",
    "\n",
    "És a dir en operacions dos guions implica igualtat entre els dos\n",
    "\n",
    "Després tenim and or o not y l'exclamació que implica distinció"
   ]
  },
  {
   "cell_type": "markdown",
   "metadata": {},
   "source": [
    "Dins de la programció també hi ha les condicions: primer començarem amb el if\n",
    "\n",
    "Molt important alhora de fer un if perquè sempre ha d'estar ben posicionat sinò no tirara\n",
    "\n",
    "Perquè tingui sentit ha d'estar en el mateix nivell depenen del que vulguem fer amb el if o no"
   ]
  },
  {
   "cell_type": "markdown",
   "metadata": {},
   "source": [
    "Dins del if com a contrapunt hi ha el else per indica sino passa això "
   ]
  },
  {
   "cell_type": "markdown",
   "metadata": {},
   "source": [
    "També hi ha el if compacto es el mateix per fent ho en una linea\n",
    "\n",
    "La estructura es if condicion else condicion"
   ]
  },
  {
   "cell_type": "markdown",
   "metadata": {},
   "source": [
    "Després hi ha tot el tema dels bucles: for i while"
   ]
  },
  {
   "cell_type": "code",
   "execution_count": 7,
   "metadata": {},
   "outputs": [
    {
     "name": "stdout",
     "output_type": "stream",
     "text": [
      "radio ok: 1\n",
      "radio ok: 2\n",
      "radio ok: 3\n",
      "radio ok: 4\n",
      "radio ok: 5\n"
     ]
    }
   ],
   "source": [
    "import math\n",
    "\n",
    "radios = [1, 2, 3, 4, 5]\n",
    "\n",
    "for radio in radios:\n",
    "    print('radio ok:', radio)"
   ]
  },
  {
   "cell_type": "markdown",
   "metadata": {},
   "source": [
    "Hi ha una de les funcions zfill que es per agafar quatre valors"
   ]
  },
  {
   "cell_type": "markdown",
   "metadata": {},
   "source": [
    "Dins de els bucles hi ha el break i el continue\n",
    "\n",
    "Per para el bucle o continuarlo"
   ]
  },
  {
   "cell_type": "markdown",
   "metadata": {},
   "source": [
    "Otro bucle es el while\n",
    "\n",
    "Es un bucle que no para hasta que se de la condición"
   ]
  },
  {
   "cell_type": "markdown",
   "metadata": {},
   "source": [
    "També hi ha les funcions\n",
    "\n",
    "les funcions serveix per automatitzar creem la funcion i només posant els valors que volem incorpora dins donarà la solució.\n",
    "\n",
    "Has d'utilitzar def el nom i (a: fota) -> float:\n",
    "\n",
    "Aquesta es la estructura i, finalment return"
   ]
  },
  {
   "cell_type": "markdown",
   "metadata": {},
   "source": [
    "Recursividad\n",
    "\n",
    "Factorial = 4*3*2*1 = 24"
   ]
  },
  {
   "cell_type": "code",
   "execution_count": null,
   "metadata": {},
   "outputs": [],
   "source": []
  },
  {
   "cell_type": "code",
   "execution_count": null,
   "metadata": {},
   "outputs": [],
   "source": []
  },
  {
   "cell_type": "code",
   "execution_count": null,
   "metadata": {},
   "outputs": [],
   "source": []
  },
  {
   "cell_type": "code",
   "execution_count": null,
   "metadata": {},
   "outputs": [],
   "source": []
  },
  {
   "cell_type": "code",
   "execution_count": null,
   "metadata": {},
   "outputs": [],
   "source": []
  },
  {
   "cell_type": "code",
   "execution_count": null,
   "metadata": {},
   "outputs": [],
   "source": []
  },
  {
   "cell_type": "code",
   "execution_count": null,
   "metadata": {},
   "outputs": [],
   "source": []
  },
  {
   "cell_type": "code",
   "execution_count": null,
   "metadata": {},
   "outputs": [],
   "source": []
  },
  {
   "cell_type": "code",
   "execution_count": null,
   "metadata": {},
   "outputs": [],
   "source": []
  },
  {
   "cell_type": "code",
   "execution_count": null,
   "metadata": {},
   "outputs": [],
   "source": []
  },
  {
   "cell_type": "code",
   "execution_count": null,
   "metadata": {},
   "outputs": [],
   "source": []
  },
  {
   "cell_type": "code",
   "execution_count": null,
   "metadata": {},
   "outputs": [],
   "source": []
  },
  {
   "cell_type": "code",
   "execution_count": null,
   "metadata": {},
   "outputs": [],
   "source": []
  },
  {
   "cell_type": "code",
   "execution_count": null,
   "metadata": {},
   "outputs": [],
   "source": []
  },
  {
   "cell_type": "code",
   "execution_count": null,
   "metadata": {},
   "outputs": [],
   "source": []
  },
  {
   "cell_type": "code",
   "execution_count": null,
   "metadata": {},
   "outputs": [],
   "source": []
  },
  {
   "cell_type": "code",
   "execution_count": null,
   "metadata": {},
   "outputs": [],
   "source": []
  },
  {
   "cell_type": "code",
   "execution_count": null,
   "metadata": {},
   "outputs": [],
   "source": []
  },
  {
   "cell_type": "code",
   "execution_count": null,
   "metadata": {},
   "outputs": [],
   "source": []
  },
  {
   "cell_type": "code",
   "execution_count": null,
   "metadata": {},
   "outputs": [],
   "source": []
  },
  {
   "cell_type": "code",
   "execution_count": null,
   "metadata": {},
   "outputs": [],
   "source": []
  },
  {
   "cell_type": "code",
   "execution_count": null,
   "metadata": {},
   "outputs": [],
   "source": []
  },
  {
   "cell_type": "code",
   "execution_count": null,
   "metadata": {},
   "outputs": [],
   "source": []
  },
  {
   "cell_type": "code",
   "execution_count": null,
   "metadata": {},
   "outputs": [],
   "source": []
  },
  {
   "cell_type": "code",
   "execution_count": null,
   "metadata": {},
   "outputs": [],
   "source": []
  },
  {
   "cell_type": "code",
   "execution_count": null,
   "metadata": {},
   "outputs": [],
   "source": []
  },
  {
   "cell_type": "code",
   "execution_count": null,
   "metadata": {},
   "outputs": [],
   "source": []
  },
  {
   "cell_type": "code",
   "execution_count": null,
   "metadata": {},
   "outputs": [],
   "source": []
  },
  {
   "cell_type": "code",
   "execution_count": null,
   "metadata": {},
   "outputs": [],
   "source": []
  },
  {
   "cell_type": "code",
   "execution_count": null,
   "metadata": {},
   "outputs": [],
   "source": []
  },
  {
   "cell_type": "code",
   "execution_count": null,
   "metadata": {},
   "outputs": [],
   "source": []
  },
  {
   "cell_type": "code",
   "execution_count": null,
   "metadata": {},
   "outputs": [],
   "source": []
  },
  {
   "cell_type": "code",
   "execution_count": null,
   "metadata": {},
   "outputs": [],
   "source": []
  },
  {
   "cell_type": "code",
   "execution_count": null,
   "metadata": {},
   "outputs": [],
   "source": []
  },
  {
   "cell_type": "code",
   "execution_count": null,
   "metadata": {},
   "outputs": [],
   "source": []
  },
  {
   "cell_type": "code",
   "execution_count": null,
   "metadata": {},
   "outputs": [],
   "source": []
  },
  {
   "cell_type": "code",
   "execution_count": null,
   "metadata": {},
   "outputs": [],
   "source": []
  },
  {
   "cell_type": "code",
   "execution_count": null,
   "metadata": {},
   "outputs": [],
   "source": []
  },
  {
   "cell_type": "code",
   "execution_count": null,
   "metadata": {},
   "outputs": [],
   "source": []
  },
  {
   "cell_type": "code",
   "execution_count": null,
   "metadata": {},
   "outputs": [],
   "source": []
  },
  {
   "cell_type": "code",
   "execution_count": null,
   "metadata": {},
   "outputs": [],
   "source": []
  }
 ],
 "metadata": {
  "kernelspec": {
   "display_name": "Python 3",
   "language": "python",
   "name": "python3"
  },
  "language_info": {
   "codemirror_mode": {
    "name": "ipython",
    "version": 3
   },
   "file_extension": ".py",
   "mimetype": "text/x-python",
   "name": "python",
   "nbconvert_exporter": "python",
   "pygments_lexer": "ipython3",
   "version": "3.7.3"
  }
 },
 "nbformat": 4,
 "nbformat_minor": 5
}
