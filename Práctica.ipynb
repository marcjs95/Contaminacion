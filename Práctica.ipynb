{
 "cells": [
  {
   "cell_type": "code",
   "execution_count": 1,
   "id": "ce9ae3bb",
   "metadata": {},
   "outputs": [
    {
     "name": "stdout",
     "output_type": "stream",
     "text": [
      "hola mundo\n"
     ]
    }
   ],
   "source": [
    "print ('hola mundo')"
   ]
  },
  {
   "cell_type": "code",
   "execution_count": 2,
   "id": "3582c915",
   "metadata": {},
   "outputs": [
    {
     "name": "stdout",
     "output_type": "stream",
     "text": [
      "Introduce un numero56\n"
     ]
    },
    {
     "data": {
      "text/plain": [
       "'56'"
      ]
     },
     "execution_count": 2,
     "metadata": {},
     "output_type": "execute_result"
    }
   ],
   "source": [
    "input('Introduce un numero')"
   ]
  },
  {
   "cell_type": "markdown",
   "id": "a147a4f4",
   "metadata": {},
   "source": [
    "Primer de tot, recorda els tipus de variables: float, entero y str"
   ]
  },
  {
   "cell_type": "markdown",
   "id": "f9648e06",
   "metadata": {},
   "source": [
    "Per busca quin es el tipus de variable que busquem utilitzem type\n",
    "\n",
    "Utilitzem input per dir una frase y que ens deixi posa un valor\n",
    "\n",
    "print per veure el que em posat, s'ha de tenir en compte el tema de les cometes si hi ha més cometes canviarles\n",
    "\n",
    "Per poder canviar el tipus de variable sempre pots posa str, float o int davant per fer ho"
   ]
  },
  {
   "cell_type": "markdown",
   "id": "192bb31d",
   "metadata": {},
   "source": [
    "Hay otro tipo de variable los boleanos pero esto lo que nos indican si lo que decimos es falso o cierto\n",
    "\n",
    "Es decir, la respuesta es verdadero o falso"
   ]
  },
  {
   "cell_type": "markdown",
   "id": "44917512",
   "metadata": {},
   "source": [
    "Hay otros tipos como el xor es un tipo de boleano\n",
    "\n",
    "laa tabla del xor es:\n",
    "\n",
    "true ^ true = false\n",
    "true ^false = true\n",
    "false ^ true = true\n",
    "false ^ false = false"
   ]
  },
  {
   "cell_type": "markdown",
   "id": "a91404ad",
   "metadata": {},
   "source": [
    "Y los otros datos son los complejos:\n",
    "\n",
    "se componen de letras y números\n",
    "\n",
    "Como pueden ser listas, diccionarios, etc..."
   ]
  },
  {
   "cell_type": "markdown",
   "id": "31e37cd1",
   "metadata": {},
   "source": [
    "Listas: para hacer una lista siempre tiene que ser entre claudators\n",
    "    \n",
    "Puedes meter en ella todo tipo de elementos\n",
    "\n",
    "y puedes ir por la lista moviendote con claudatomr y el número de la posición"
   ]
  },
  {
   "cell_type": "markdown",
   "id": "573d7bc6",
   "metadata": {},
   "source": [
    "las listas añadiendo un punto tienen diferentes opciones para poder añadir delante o detrás y, otras funciones"
   ]
  },
  {
   "cell_type": "markdown",
   "id": "e097af33",
   "metadata": {},
   "source": [
    "Hay funciones en las listas como len, mirar la longitud de la lista.\n",
    "\n",
    "Hay el mínimo de valor y el máximo, la suma, etc...\n",
    "\n",
    "Dentro de las listas puedes coger distintos número a partir de funciones como [:4] seria coger los cuatro primeros."
   ]
  },
  {
   "cell_type": "markdown",
   "id": "6779a4a0",
   "metadata": {},
   "source": [
    "También hay tuplas son elementos heteregeneos pero inmuntables"
   ]
  },
  {
   "cell_type": "markdown",
   "id": "2dbf0eef",
   "metadata": {},
   "source": [
    "Se hace con parentesis al contrario que las listas"
   ]
  },
  {
   "cell_type": "markdown",
   "id": "79cbfb7c",
   "metadata": {},
   "source": [
    "Després tenim operadors i llenguatge\n",
    "\n",
    "És a dir pots fer sumes de lletras, multiplicació, divisió, divisió exacte o el dividend"
   ]
  },
  {
   "cell_type": "code",
   "execution_count": 1,
   "id": "4c2e5da0",
   "metadata": {},
   "outputs": [],
   "source": [
    "n_times = 0"
   ]
  },
  {
   "cell_type": "code",
   "execution_count": 2,
   "id": "74d021b5",
   "metadata": {},
   "outputs": [],
   "source": [
    "n_times = n_times + 1"
   ]
  },
  {
   "cell_type": "code",
   "execution_count": 3,
   "id": "281d2c95",
   "metadata": {},
   "outputs": [
    {
     "data": {
      "text/plain": [
       "1"
      ]
     },
     "execution_count": 3,
     "metadata": {},
     "output_type": "execute_result"
    }
   ],
   "source": [
    "n_times"
   ]
  },
  {
   "cell_type": "markdown",
   "id": "fddea93a",
   "metadata": {},
   "source": [
    "Hi ha diferents funcions númeriques per pode fer servir com el mínim. máxim, exponencial etc..."
   ]
  },
  {
   "cell_type": "markdown",
   "id": "d5bdb964",
   "metadata": {},
   "source": [
    "Després com hem comentat abans hi ha diferents tipus de variables ara comentarem els strings cadenes de lletres"
   ]
  },
  {
   "cell_type": "markdown",
   "id": "a33aadd7",
   "metadata": {},
   "source": [
    "En el cas dels strings pots crea una variable que tingui strings i aquesta té funcions per fer servir.\n",
    "\n",
    "Pots separar amb split, pots fer replace, upper, capitalize, etc..."
   ]
  },
  {
   "cell_type": "markdown",
   "id": "d6480ea8",
   "metadata": {},
   "source": [
    "Es pot llegir i escriure a partir de de la funció open i llegir a partir de la funció readline.\n",
    "\n",
    "Després s'haurà de tancar amb close.\n",
    "\n",
    "Quan obrim el arxiu haurem de dir si estem llegint o estem escrivint amb separant amb una coma i posant cometes 'rt' o 'wt'\n",
    "\n",
    "Com he comentat s'haurà de fer readline o write depenen que vulguem\n",
    "\n",
    "També farem això amb pandas que serà més fàcil sobretot quan vulguem llegir"
   ]
  },
  {
   "cell_type": "markdown",
   "id": "27d06fd9",
   "metadata": {},
   "source": [
    "Operadors lògics es a dir true false pero també podem donar el condicionant dient si 2 és més petit que 3 això serà true\n",
    "\n",
    "És a dir en operacions dos guions implica igualtat entre els dos\n",
    "\n",
    "Després tenim and or o not y l'exclamació que implica distinció"
   ]
  },
  {
   "cell_type": "markdown",
   "id": "1172667f",
   "metadata": {},
   "source": [
    "Dins de la programció també hi ha les condicions: primer començarem amb el if\n",
    "\n",
    "Molt important alhora de fer un if perquè sempre ha d'estar ben posicionat sinò no tirara\n",
    "\n",
    "Perquè tingui sentit ha d'estar en el mateix nivell depenen del que vulguem fer amb el if o no"
   ]
  },
  {
   "cell_type": "markdown",
   "id": "4d27b8b5",
   "metadata": {},
   "source": []
  },
  {
   "cell_type": "code",
   "execution_count": null,
   "id": "4fee4238",
   "metadata": {},
   "outputs": [],
   "source": []
  },
  {
   "cell_type": "code",
   "execution_count": null,
   "id": "8fe96fc0",
   "metadata": {},
   "outputs": [],
   "source": []
  },
  {
   "cell_type": "code",
   "execution_count": null,
   "id": "ba06414c",
   "metadata": {},
   "outputs": [],
   "source": []
  },
  {
   "cell_type": "code",
   "execution_count": null,
   "id": "fd2be3b0",
   "metadata": {},
   "outputs": [],
   "source": []
  },
  {
   "cell_type": "code",
   "execution_count": null,
   "id": "b625fd02",
   "metadata": {},
   "outputs": [],
   "source": []
  },
  {
   "cell_type": "code",
   "execution_count": null,
   "id": "77bc39f6",
   "metadata": {},
   "outputs": [],
   "source": []
  },
  {
   "cell_type": "code",
   "execution_count": null,
   "id": "a38b9f21",
   "metadata": {},
   "outputs": [],
   "source": []
  },
  {
   "cell_type": "code",
   "execution_count": null,
   "id": "d60a09a3",
   "metadata": {},
   "outputs": [],
   "source": []
  },
  {
   "cell_type": "code",
   "execution_count": null,
   "id": "5b431503",
   "metadata": {},
   "outputs": [],
   "source": []
  },
  {
   "cell_type": "code",
   "execution_count": null,
   "id": "d8735eba",
   "metadata": {},
   "outputs": [],
   "source": []
  },
  {
   "cell_type": "code",
   "execution_count": null,
   "id": "bbb5801b",
   "metadata": {},
   "outputs": [],
   "source": []
  },
  {
   "cell_type": "code",
   "execution_count": null,
   "id": "af1be736",
   "metadata": {},
   "outputs": [],
   "source": []
  },
  {
   "cell_type": "code",
   "execution_count": null,
   "id": "97f12fdd",
   "metadata": {},
   "outputs": [],
   "source": []
  },
  {
   "cell_type": "code",
   "execution_count": null,
   "id": "2cbe8941",
   "metadata": {},
   "outputs": [],
   "source": []
  },
  {
   "cell_type": "code",
   "execution_count": null,
   "id": "dede78bc",
   "metadata": {},
   "outputs": [],
   "source": []
  },
  {
   "cell_type": "code",
   "execution_count": null,
   "id": "c0968c20",
   "metadata": {},
   "outputs": [],
   "source": []
  },
  {
   "cell_type": "code",
   "execution_count": null,
   "id": "44d463ef",
   "metadata": {},
   "outputs": [],
   "source": []
  },
  {
   "cell_type": "code",
   "execution_count": null,
   "id": "fafa1e49",
   "metadata": {},
   "outputs": [],
   "source": []
  },
  {
   "cell_type": "code",
   "execution_count": null,
   "id": "6784b63f",
   "metadata": {},
   "outputs": [],
   "source": []
  },
  {
   "cell_type": "code",
   "execution_count": null,
   "id": "b43cb426",
   "metadata": {},
   "outputs": [],
   "source": []
  }
 ],
 "metadata": {
  "kernelspec": {
   "display_name": "Python 3 (ipykernel)",
   "language": "python",
   "name": "python3"
  },
  "language_info": {
   "codemirror_mode": {
    "name": "ipython",
    "version": 3
   },
   "file_extension": ".py",
   "mimetype": "text/x-python",
   "name": "python",
   "nbconvert_exporter": "python",
   "pygments_lexer": "ipython3",
   "version": "3.9.7"
  }
 },
 "nbformat": 4,
 "nbformat_minor": 5
}
