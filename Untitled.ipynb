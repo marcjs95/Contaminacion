{
 "cells": [
  {
   "cell_type": "code",
   "execution_count": 1,
   "id": "ce9ae3bb",
   "metadata": {},
   "outputs": [
    {
     "name": "stdout",
     "output_type": "stream",
     "text": [
      "hola mundo\n"
     ]
    }
   ],
   "source": [
    "print ('hola mundo')"
   ]
  },
  {
   "cell_type": "code",
   "execution_count": 2,
   "id": "3582c915",
   "metadata": {},
   "outputs": [
    {
     "name": "stdout",
     "output_type": "stream",
     "text": [
      "Introduce un numero56\n"
     ]
    },
    {
     "data": {
      "text/plain": [
       "'56'"
      ]
     },
     "execution_count": 2,
     "metadata": {},
     "output_type": "execute_result"
    }
   ],
   "source": [
    "input('Introduce un numero')"
   ]
  },
  {
   "cell_type": "markdown",
   "id": "a147a4f4",
   "metadata": {},
   "source": [
    "Primer de tot, recorda els tipus de variables: float, entero y str"
   ]
  },
  {
   "cell_type": "markdown",
   "id": "f9648e06",
   "metadata": {},
   "source": [
    "Per busca quin es el tipus de variable que busquem utilitzem type\n",
    "\n",
    "Utilitzem input per dir una frase y que ens deixi posa un valor\n",
    "\n",
    "print per veure el que em posat, s'ha de tenir en compte el tema de les cometes si hi ha més cometes canviarles\n",
    "\n",
    "Per poder canviar el tipus de variable sempre pots posa str, float o int davant per fer ho"
   ]
  },
  {
   "cell_type": "markdown",
   "id": "192bb31d",
   "metadata": {},
   "source": [
    "Hay otro tipo de variable los boleanos pero esto lo que nos indican si lo que decimos es falso o cierto\n",
    "\n",
    "Es decir, la respuesta es verdadero o falso"
   ]
  },
  {
   "cell_type": "markdown",
   "id": "44917512",
   "metadata": {},
   "source": [
    "Hay otros tipos como el xor es un tipo de boleano\n",
    "\n",
    "laa tabla del xor es:\n",
    "\n",
    "true ^ true = false\n",
    "true ^false = true\n",
    "false ^ true = true\n",
    "false ^ false = false"
   ]
  },
  {
   "cell_type": "markdown",
   "id": "a91404ad",
   "metadata": {},
   "source": [
    "Y los otros datos son los complejos:\n",
    "\n",
    "se componen de letras y números\n",
    "\n",
    "Como pueden ser listas, diccionarios, etc..."
   ]
  },
  {
   "cell_type": "markdown",
   "id": "31e37cd1",
   "metadata": {},
   "source": [
    "Listas: para hacer una lista siempre tiene que ser entre claudators\n",
    "    \n",
    "Puedes meter en ella todo tipo de elementos\n",
    "\n",
    "y puedes ir por la lista moviendote con claudatomr y el número de la posición"
   ]
  },
  {
   "cell_type": "markdown",
   "id": "050369a5",
   "metadata": {},
   "source": []
  },
  {
   "cell_type": "code",
   "execution_count": null,
   "id": "3be1b29b",
   "metadata": {},
   "outputs": [],
   "source": []
  },
  {
   "cell_type": "code",
   "execution_count": null,
   "id": "58e39388",
   "metadata": {},
   "outputs": [],
   "source": []
  },
  {
   "cell_type": "code",
   "execution_count": null,
   "id": "d332d878",
   "metadata": {},
   "outputs": [],
   "source": []
  },
  {
   "cell_type": "code",
   "execution_count": null,
   "id": "9124fc8b",
   "metadata": {},
   "outputs": [],
   "source": []
  },
  {
   "cell_type": "code",
   "execution_count": null,
   "id": "42074dcc",
   "metadata": {},
   "outputs": [],
   "source": []
  },
  {
   "cell_type": "code",
   "execution_count": null,
   "id": "dede78bc",
   "metadata": {},
   "outputs": [],
   "source": []
  },
  {
   "cell_type": "code",
   "execution_count": null,
   "id": "c0968c20",
   "metadata": {},
   "outputs": [],
   "source": []
  },
  {
   "cell_type": "code",
   "execution_count": null,
   "id": "44d463ef",
   "metadata": {},
   "outputs": [],
   "source": []
  },
  {
   "cell_type": "code",
   "execution_count": null,
   "id": "fafa1e49",
   "metadata": {},
   "outputs": [],
   "source": []
  },
  {
   "cell_type": "code",
   "execution_count": null,
   "id": "6784b63f",
   "metadata": {},
   "outputs": [],
   "source": []
  },
  {
   "cell_type": "code",
   "execution_count": null,
   "id": "b43cb426",
   "metadata": {},
   "outputs": [],
   "source": []
  }
 ],
 "metadata": {
  "kernelspec": {
   "display_name": "Python 3 (ipykernel)",
   "language": "python",
   "name": "python3"
  },
  "language_info": {
   "codemirror_mode": {
    "name": "ipython",
    "version": 3
   },
   "file_extension": ".py",
   "mimetype": "text/x-python",
   "name": "python",
   "nbconvert_exporter": "python",
   "pygments_lexer": "ipython3",
   "version": "3.9.7"
  }
 },
 "nbformat": 4,
 "nbformat_minor": 5
}
